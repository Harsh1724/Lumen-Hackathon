{
 "cells": [
  {
   "cell_type": "code",
   "execution_count": 5,
   "id": "1ca10d32-16c5-4fb9-bb4e-4661e2dc055a",
   "metadata": {},
   "outputs": [
    {
     "name": "stdout",
     "output_type": "stream",
     "text": [
      "Sheets in file: ['Product', 'User']\n",
      "Product Data Preview:\n",
      "                    ProductName  \\\n",
      "0                Cisco ISR 1101   \n",
      "1                     HP 5406zl   \n",
      "2        DOCSIS 3.1 Cable Modem   \n",
      "3          Cellular Duplexer Rx   \n",
      "4  SBB100 Splitter Trough Block   \n",
      "\n",
      "                                         Description Product Image  \\\n",
      "0            ISR 1101 4 Ports GE Ethernet WAN Router           NaN   \n",
      "1                          HP ProCurve Switch 5406zl           NaN   \n",
      "2  Superfast speeds up to 10 gigabits per second ...     modem.jpg   \n",
      "3     A multiplexer product that is RoHS6 compliant            NaN   \n",
      "4   Splitter block  with copper-aluminium monopie...  splitter.jpg   \n",
      "\n",
      "  Product Cateogy Name Model Number                         Serial Number  \\\n",
      "0               Router       XYZ123  6a38028c-6a71-4f44-b8f6-253bc7086a0a   \n",
      "1               Switch       ABC456  7edc108e-45e0-4997-bc59-17852d16b689   \n",
      "2                Modem       LMN789  e41e2e16-2945-4c0c-a584-48935742fe94   \n",
      "3          Multiplexer       DSC423  6aac9135-9ceb-4535-a13a-fc04ad8dadd5   \n",
      "4             Splitter       BGH678  b01f5fea-f863-441e-9150-c5595caa9f01   \n",
      "\n",
      "   StockLevel  ReorderPoint Supplier Name   Supplier Mail  Supplier  Contact  \\\n",
      "0         500           150         Cisco   abcd@mail.com         1234567890   \n",
      "1         300           100            HP   abhp@mail.com         1980762345   \n",
      "2         200            50       Netgear  Neger@mail.com         9256476541   \n",
      "3         200            50      Broadcom  brcom@mail.com         1759731673   \n",
      "4         400            75          BELL   blee@mail.com         1256476893   \n",
      "\n",
      "            Order Date  Quantity Order Status  \n",
      "0  2023-01-15 00:00:00       500     Deliverd  \n",
      "1  2023-11-05 00:00:00       300     Deliverd  \n",
      "2  2023-08-06 00:00:00       200     Deliverd  \n",
      "3  2023-05-16 00:00:00       200     Deliverd  \n",
      "4  2023-10-06 00:00:00       400     Deliverd  \n",
      "User Data Preview:\n",
      "   UserId  UserName     Password First Name Last Name     Type       Phone  \\\n",
      "0       1   rthomas    adminpass    Rachel     Thomas    Admin  1234987650   \n",
      "1       2  ajackson  managerpass       Alex   Jackson  Manager  7894987650   \n",
      "2       3   pnelson    staffpass      Peter    Nelson    Staff  7654987124   \n",
      "\n",
      "          Email  \n",
      "0  abc@mail.com  \n",
      "1  non@mail.com  \n",
      "2  mmm@mail.com  \n"
     ]
    }
   ],
   "source": [
    "import pandas as pd\n",
    "\n",
    "file_path = 'Inventory_DataSet.xlsx'\n",
    "data = pd.ExcelFile(file_path)\n",
    "product_data = data.parse('Product')\n",
    "user_data = data.parse('User')\n",
    "print(\"Sheets in file:\", data.sheet_names)\n",
    "print(\"Product Data Preview:\")\n",
    "print(product_data.head())\n",
    "print(\"User Data Preview:\")\n",
    "print(user_data.head())"
   ]
  },
  {
   "cell_type": "code",
   "execution_count": 6,
   "id": "9a07bc70-89d3-4436-9546-2c21d1416106",
   "metadata": {},
   "outputs": [
    {
     "name": "stdout",
     "output_type": "stream",
     "text": [
      "Missing values in Product data:\n",
      "ProductName               0\n",
      "Description               0\n",
      "Product Image           380\n",
      "Product Cateogy Name      0\n",
      "Model Number              0\n",
      "Serial Number             0\n",
      "StockLevel                0\n",
      "ReorderPoint              0\n",
      "Supplier Name             0\n",
      "Supplier Mail             0\n",
      "Supplier  Contact         0\n",
      "Order Date                0\n",
      "Quantity                  0\n",
      "Order Status              0\n",
      "dtype: int64\n",
      "Missing values in User data:\n",
      "UserId        0\n",
      "UserName      0\n",
      "Password      0\n",
      "First Name    0\n",
      "Last Name     0\n",
      "Type          0\n",
      "Phone         0\n",
      "Email         0\n",
      "dtype: int64\n"
     ]
    }
   ],
   "source": [
    "print(\"Missing values in Product data:\")\n",
    "print(product_data.isnull().sum())\n",
    "print(\"Missing values in User data:\")\n",
    "print(user_data.isnull().sum())"
   ]
  },
  {
   "cell_type": "code",
   "execution_count": 9,
   "id": "59dc9558-7e21-4d71-bcf2-ef6728411b3f",
   "metadata": {},
   "outputs": [],
   "source": [
    "# Fill missing values in Product Image column\n",
    "product_data['Product Image'] = product_data['Product Image'].fillna('No Image Available')\n"
   ]
  },
  {
   "cell_type": "code",
   "execution_count": 11,
   "id": "c15ba627-d031-4a98-9fae-736b70e193a4",
   "metadata": {},
   "outputs": [
    {
     "name": "stdout",
     "output_type": "stream",
     "text": [
      "Product data shape after removing duplicates: (500, 14)\n",
      "User data shape after removing duplicates: (3, 8)\n"
     ]
    }
   ],
   "source": [
    "# Check and remove duplicates\n",
    "product_data = product_data.drop_duplicates()\n",
    "user_data = user_data.drop_duplicates()\n",
    "\n",
    "print(\"Product data shape after removing duplicates:\", product_data.shape)\n",
    "print(\"User data shape after removing duplicates:\", user_data.shape)\n"
   ]
  },
  {
   "cell_type": "code",
   "execution_count": 13,
   "id": "d7ea053c-633b-4c34-88c6-1d3be9c7d963",
   "metadata": {},
   "outputs": [
    {
     "name": "stdout",
     "output_type": "stream",
     "text": [
      "Invalid dates in Product data:\n",
      "                            ProductName                        Description  \\\n",
      "65                   COM-G3-L1-403-S5S5                A Four-way combiner   \n",
      "89       TP-Link DOCSIS 3.0 Cable Modem                High-Speed Internet   \n",
      "463  DOCSIS 3.1 Cable Modem (CM1000) -4  A Nighthawk Multi-Gig Cable Modem   \n",
      "\n",
      "          Product Image Product Cateogy Name Model Number  \\\n",
      "65   No Image Available             Combiner       BGH684   \n",
      "89            modem.jpg                Modem       NLX300   \n",
      "463  No Image Available                Modem     CAR-5370   \n",
      "\n",
      "                            Serial Number  StockLevel  ReorderPoint  \\\n",
      "65   dad627fe-e8f6-49ec-a798-9a7460577397         300            75   \n",
      "89   75c083e7-f683-41e5-be69-379f89f5aa1b         200            25   \n",
      "463  330668d4-072b-488f-91a0-8b13937e3891         300           100   \n",
      "\n",
      "    Supplier Name        Supplier Mail  Supplier  Contact Order Date  \\\n",
      "65        Synergy      synerg@mail.com         7865434961        NaT   \n",
      "89        TP-Link  support@tp-link.com         9022323545        NaT   \n",
      "463       Netgear       Neger@mail.com         9256476541        NaT   \n",
      "\n",
      "     Quantity Order Status  \n",
      "65        300     Deliverd  \n",
      "89        200     Deliverd  \n",
      "463       300     Deliverd  \n",
      "Products with negative stock levels:\n",
      "Empty DataFrame\n",
      "Columns: [ProductName, Description, Product Image, Product Cateogy Name, Model Number, Serial Number, StockLevel, ReorderPoint, Supplier Name, Supplier Mail, Supplier  Contact, Order Date, Quantity, Order Status]\n",
      "Index: []\n"
     ]
    }
   ],
   "source": [
    "product_data['Order Date'] = pd.to_datetime(product_data['Order Date'], errors='coerce')\n",
    "\n",
    "invalid_dates = product_data[product_data['Order Date'].isnull()]\n",
    "print(\"Invalid dates in Product data:\")\n",
    "print(invalid_dates)\n",
    "\n",
    "out_of_range_stock = product_data[product_data['StockLevel'] < 0]\n",
    "print(\"Products with negative stock levels:\")\n",
    "print(out_of_range_stock)\n"
   ]
  },
  {
   "cell_type": "code",
   "execution_count": 15,
   "id": "461f9897-685e-45f7-be5b-551b0603f979",
   "metadata": {},
   "outputs": [
    {
     "name": "stdout",
     "output_type": "stream",
     "text": [
      "Invalid phone numbers:\n",
      "Empty DataFrame\n",
      "Columns: [UserId, UserName, Password, First Name, Last Name, Type, Phone, Email, Valid Phone, Valid Email]\n",
      "Index: []\n",
      "Invalid emails:\n",
      "Empty DataFrame\n",
      "Columns: [UserId, UserName, Password, First Name, Last Name, Type, Phone, Email, Valid Phone, Valid Email]\n",
      "Index: []\n"
     ]
    }
   ],
   "source": [
    "user_data.columns = user_data.columns.str.replace('\\xa0', ' ', regex=True)\n",
    "\n",
    "user_data['Phone'] = user_data['Phone'].astype(str)\n",
    "user_data['Email'] = user_data['Email'].astype(str)\n",
    "\n",
    "user_data['Valid Phone'] = user_data['Phone'].str.isdigit() & (user_data['Phone'].str.len() == 10)\n",
    "\n",
    "user_data['Valid Email'] = user_data['Email'].fillna('').str.match(r'^[\\w\\.-]+@[\\w\\.-]+\\.\\w+$')\n",
    "\n",
    "print(\"Invalid phone numbers:\")\n",
    "print(user_data[~user_data['Valid Phone']])\n",
    "\n",
    "print(\"Invalid emails:\")\n",
    "print(user_data[~user_data['Valid Email']])\n"
   ]
  },
  {
   "cell_type": "code",
   "execution_count": 21,
   "id": "ca6b5c77-c7ab-43ba-b625-00047c5b47c2",
   "metadata": {},
   "outputs": [
    {
     "name": "stdout",
     "output_type": "stream",
     "text": [
      "Cleaned data saved successfully!\n"
     ]
    }
   ],
   "source": [
    "product_data.to_excel('Cleaned_Product_Data.xlsx', index=False)\n",
    "user_data.to_excel('Cleaned_User_Data.xlsx', index=False)\n",
    "\n",
    "print(\"Cleaned data saved successfully!\")\n",
    "\n"
   ]
  },
  {
   "cell_type": "code",
   "execution_count": 23,
   "id": "77f9ad52-67f0-425e-92ed-021bc3e5d3e3",
   "metadata": {},
   "outputs": [
    {
     "name": "stdout",
     "output_type": "stream",
     "text": [
      "Missing values in Product Data:\n",
      "ProductName             0\n",
      "Description             0\n",
      "Product Image           0\n",
      "Product Cateogy Name    0\n",
      "Model Number            0\n",
      "Serial Number           0\n",
      "StockLevel              0\n",
      "ReorderPoint            0\n",
      "Supplier Name           0\n",
      "Supplier Mail           0\n",
      "Supplier  Contact       0\n",
      "Order Date              3\n",
      "Quantity                0\n",
      "Order Status            0\n",
      "dtype: int64\n"
     ]
    }
   ],
   "source": [
    "missing_values = product_data.isnull().sum()\n",
    "print(\"Missing values in Product Data:\")\n",
    "print(missing_values)\n"
   ]
  },
  {
   "cell_type": "code",
   "execution_count": 25,
   "id": "7574fca5-7654-4f69-b528-276ca53b7a45",
   "metadata": {},
   "outputs": [
    {
     "name": "stdout",
     "output_type": "stream",
     "text": [
      "Data after handling missing values:\n",
      "ProductName             0\n",
      "Description             0\n",
      "Product Image           0\n",
      "Product Cateogy Name    0\n",
      "Model Number            0\n",
      "Serial Number           0\n",
      "StockLevel              0\n",
      "ReorderPoint            0\n",
      "Supplier Name           0\n",
      "Supplier Mail           0\n",
      "Supplier  Contact       0\n",
      "Order Date              3\n",
      "Quantity                0\n",
      "Order Status            0\n",
      "dtype: int64\n"
     ]
    }
   ],
   "source": [
    "# Fill missing 'Product Image' with a placeholder\n",
    "product_data['Product Image'] = product_data['Product Image'].fillna('No Image Available')\n",
    "\n",
    "# Optionally drop rows with missing critical information\n",
    "product_data = product_data.dropna(subset=['ProductName', 'Supplier Name'])\n",
    "\n",
    "print(\"Data after handling missing values:\")\n",
    "print(product_data.isnull().sum())\n"
   ]
  },
  {
   "cell_type": "code",
   "execution_count": 27,
   "id": "679594de-05af-4796-93bf-203aed348bf1",
   "metadata": {},
   "outputs": [
    {
     "name": "stdout",
     "output_type": "stream",
     "text": [
      "Data shape after removing duplicates: (500, 14)\n"
     ]
    }
   ],
   "source": [
    "# Drop duplicate rows if any\n",
    "product_data = product_data.drop_duplicates()\n",
    "\n",
    "print(f\"Data shape after removing duplicates: {product_data.shape}\")\n"
   ]
  },
  {
   "cell_type": "code",
   "execution_count": 29,
   "id": "efd358e8-bc6a-4ec5-99bd-38cf57532576",
   "metadata": {},
   "outputs": [
    {
     "name": "stdout",
     "output_type": "stream",
     "text": [
      "Rows with invalid dates:\n",
      "                            ProductName                        Description  \\\n",
      "65                   COM-G3-L1-403-S5S5                A Four-way combiner   \n",
      "89       TP-Link DOCSIS 3.0 Cable Modem                High-Speed Internet   \n",
      "463  DOCSIS 3.1 Cable Modem (CM1000) -4  A Nighthawk Multi-Gig Cable Modem   \n",
      "\n",
      "          Product Image Product Cateogy Name Model Number  \\\n",
      "65   No Image Available             Combiner       BGH684   \n",
      "89            modem.jpg                Modem       NLX300   \n",
      "463  No Image Available                Modem     CAR-5370   \n",
      "\n",
      "                            Serial Number  StockLevel  ReorderPoint  \\\n",
      "65   dad627fe-e8f6-49ec-a798-9a7460577397         300            75   \n",
      "89   75c083e7-f683-41e5-be69-379f89f5aa1b         200            25   \n",
      "463  330668d4-072b-488f-91a0-8b13937e3891         300           100   \n",
      "\n",
      "    Supplier Name        Supplier Mail  Supplier  Contact Order Date  \\\n",
      "65        Synergy      synerg@mail.com         7865434961        NaT   \n",
      "89        TP-Link  support@tp-link.com         9022323545        NaT   \n",
      "463       Netgear       Neger@mail.com         9256476541        NaT   \n",
      "\n",
      "     Quantity Order Status  \n",
      "65        300     Deliverd  \n",
      "89        200     Deliverd  \n",
      "463       300     Deliverd  \n",
      "  Order Date  Year  Month  Day Day Name Month Name\n",
      "0 2023-01-15  2023      1   15   Sunday    January\n",
      "1 2023-11-05  2023     11    5   Sunday   November\n",
      "2 2023-08-06  2023      8    6   Sunday     August\n",
      "3 2023-05-16  2023      5   16  Tuesday        May\n",
      "4 2023-10-06  2023     10    6   Friday    October\n"
     ]
    }
   ],
   "source": [
    "# Convert 'Order Date' to datetime\n",
    "product_data['Order Date'] = pd.to_datetime(product_data['Order Date'], errors='coerce')\n",
    "\n",
    "# Check for invalid dates\n",
    "invalid_dates = product_data[product_data['Order Date'].isnull()]\n",
    "print(\"Rows with invalid dates:\")\n",
    "print(invalid_dates)\n",
    "\n",
    "# Remove or fill rows with invalid dates\n",
    "product_data = product_data.dropna(subset=['Order Date'])\n",
    "\n",
    "# Create new columns for Year, Month, Day, and other date-related information\n",
    "product_data['Year'] = product_data['Order Date'].dt.year\n",
    "product_data['Month'] = product_data['Order Date'].dt.month\n",
    "product_data['Day'] = product_data['Order Date'].dt.day\n",
    "product_data['Day Name'] = product_data['Order Date'].dt.day_name()  # e.g., Monday\n",
    "product_data['Month Name'] = product_data['Order Date'].dt.month_name()  # e.g., January\n",
    "\n",
    "# Display a preview of the updated dataframe\n",
    "print(product_data[['Order Date', 'Year', 'Month', 'Day', 'Day Name', 'Month Name']].head())\n"
   ]
  },
  {
   "cell_type": "code",
   "execution_count": 31,
   "id": "528e84b7-fb7d-4b8f-b6d5-917a7c176507",
   "metadata": {},
   "outputs": [],
   "source": [
    "# Standardize text in 'Product Cateogy Name' and 'Order Status'\n",
    "product_data['Product Cateogy Name'] = product_data['Product Cateogy Name'].str.title()\n",
    "product_data['Order Status'] = product_data['Order Status'].str.capitalize()\n"
   ]
  },
  {
   "cell_type": "code",
   "execution_count": 33,
   "id": "f767fa3e-08a3-46d4-bf31-c7f318da9f72",
   "metadata": {},
   "outputs": [
    {
     "name": "stdout",
     "output_type": "stream",
     "text": [
      "Outliers in Stock Level:\n",
      "Empty DataFrame\n",
      "Columns: [ProductName, Description, Product Image, Product Cateogy Name, Model Number, Serial Number, StockLevel, ReorderPoint, Supplier Name, Supplier Mail, Supplier  Contact, Order Date, Quantity, Order Status, Year, Month, Day, Day Name, Month Name]\n",
      "Index: []\n"
     ]
    }
   ],
   "source": [
    "# Identify outliers or invalid values\n",
    "out_of_range_stock = product_data[product_data['StockLevel'] < 0]\n",
    "print(\"Outliers in Stock Level:\")\n",
    "print(out_of_range_stock)\n",
    "\n",
    "# Remove rows with invalid stock levels\n",
    "product_data = product_data[product_data['StockLevel'] >= 0]\n"
   ]
  },
  {
   "cell_type": "code",
   "execution_count": 35,
   "id": "69c8df78-c1c7-42ed-bbad-687824a7213d",
   "metadata": {},
   "outputs": [
    {
     "name": "stdout",
     "output_type": "stream",
     "text": [
      "Invalid supplier emails:\n",
      "Empty DataFrame\n",
      "Columns: [ProductName, Description, Product Image, Product Cateogy Name, Model Number, Serial Number, StockLevel, ReorderPoint, Supplier Name, Supplier Mail, Supplier  Contact, Order Date, Quantity, Order Status, Year, Month, Day, Day Name, Month Name, Valid Supplier Email]\n",
      "Index: []\n"
     ]
    }
   ],
   "source": [
    "# Validate Supplier Email format\n",
    "product_data['Valid Supplier Email'] = product_data['Supplier Mail'].str.contains(r'^[\\w\\.-]+@[\\w\\.-]+\\.\\w+$')\n",
    "\n",
    "# Find invalid emails\n",
    "invalid_emails = product_data[~product_data['Valid Supplier Email']]\n",
    "print(\"Invalid supplier emails:\")\n",
    "print(invalid_emails)\n"
   ]
  },
  {
   "cell_type": "code",
   "execution_count": 37,
   "id": "650fbd66-db0b-4101-b6e5-79597bb70279",
   "metadata": {},
   "outputs": [
    {
     "name": "stdout",
     "output_type": "stream",
     "text": [
      "Cleaned Product Data saved successfully!\n"
     ]
    }
   ],
   "source": [
    "# Save the cleaned data\n",
    "product_data.to_excel('Cleaned_Product_Data.xlsx', index=False)\n",
    "print(\"Cleaned Product Data saved successfully!\")\n"
   ]
  },
  {
   "cell_type": "code",
   "execution_count": null,
   "id": "7e94bd5d-4d3c-43fe-a25c-d7854adfcd9e",
   "metadata": {},
   "outputs": [],
   "source": []
  },
  {
   "cell_type": "code",
   "execution_count": null,
   "id": "d61afd0d-3e62-4f65-80a7-d3d347eaff73",
   "metadata": {},
   "outputs": [],
   "source": []
  }
 ],
 "metadata": {
  "kernelspec": {
   "display_name": "Python [conda env:base] *",
   "language": "python",
   "name": "conda-base-py"
  },
  "language_info": {
   "codemirror_mode": {
    "name": "ipython",
    "version": 3
   },
   "file_extension": ".py",
   "mimetype": "text/x-python",
   "name": "python",
   "nbconvert_exporter": "python",
   "pygments_lexer": "ipython3",
   "version": "3.12.7"
  }
 },
 "nbformat": 4,
 "nbformat_minor": 5
}
